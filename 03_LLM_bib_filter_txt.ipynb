{
 "cells": [
  {
   "cell_type": "code",
   "execution_count": 1,
   "id": "1dfdf456",
   "metadata": {},
   "outputs": [],
   "source": [
    "import pandas as pd\n",
    "import numpy as np\n",
    "import os"
   ]
  },
  {
   "cell_type": "code",
   "execution_count": 2,
   "id": "2d9e70cb",
   "metadata": {},
   "outputs": [],
   "source": [
    "data_import_path = \"/nfs/turbo/hrg/somar/LLM_bib/raw_data\"\n",
    "data_export_path = \"/nfs/turbo/hrg/somar/LLM_bib/result_data\"\n",
    "result_path = \"/nfs/turbo/hrg/somar/LLM_bib/result_file\""
   ]
  },
  {
   "cell_type": "markdown",
   "id": "0a70a045",
   "metadata": {},
   "source": [
    "### Import Data"
   ]
  },
  {
   "cell_type": "code",
   "execution_count": 3,
   "id": "a214cc99",
   "metadata": {},
   "outputs": [],
   "source": [
    "df_metadata = pd.read_csv(data_export_path+\"/LLM_wos_abstract_w_topics_years_positions_categories_200.csv\")"
   ]
  },
  {
   "cell_type": "code",
   "execution_count": 4,
   "id": "987b9bde",
   "metadata": {},
   "outputs": [
    {
     "data": {
      "text/html": [
       "<div>\n",
       "<style scoped>\n",
       "    .dataframe tbody tr th:only-of-type {\n",
       "        vertical-align: middle;\n",
       "    }\n",
       "\n",
       "    .dataframe tbody tr th {\n",
       "        vertical-align: top;\n",
       "    }\n",
       "\n",
       "    .dataframe thead th {\n",
       "        text-align: right;\n",
       "    }\n",
       "</style>\n",
       "<table border=\"1\" class=\"dataframe\">\n",
       "  <thead>\n",
       "    <tr style=\"text-align: right;\">\n",
       "      <th></th>\n",
       "      <th>Article Title</th>\n",
       "      <th>DOI</th>\n",
       "      <th>Abstract</th>\n",
       "      <th>Article_number</th>\n",
       "      <th>Title_abstract</th>\n",
       "      <th>Year</th>\n",
       "      <th>topics</th>\n",
       "      <th>x</th>\n",
       "      <th>y</th>\n",
       "      <th>Category</th>\n",
       "    </tr>\n",
       "  </thead>\n",
       "  <tbody>\n",
       "    <tr>\n",
       "      <th>0</th>\n",
       "      <td>Jigsaw: Large Language Models meet Program Syn...</td>\n",
       "      <td>10.1145/3510003.3510203</td>\n",
       "      <td>Large pre-trained language models such as GPT-...</td>\n",
       "      <td>0</td>\n",
       "      <td>Jigsaw: Large Language Models meet Program Syn...</td>\n",
       "      <td>2022</td>\n",
       "      <td>67</td>\n",
       "      <td>8.348383</td>\n",
       "      <td>3.198837</td>\n",
       "      <td>Algorithm and NLP Tasks</td>\n",
       "    </tr>\n",
       "    <tr>\n",
       "      <th>1</th>\n",
       "      <td>Structured Pruning of Large Language Models</td>\n",
       "      <td>NaN</td>\n",
       "      <td>Large language models have recently achieved s...</td>\n",
       "      <td>1</td>\n",
       "      <td>Structured Pruning of Large Language Models. L...</td>\n",
       "      <td>2020</td>\n",
       "      <td>16</td>\n",
       "      <td>11.253509</td>\n",
       "      <td>0.702383</td>\n",
       "      <td>Algorithm and NLP Tasks</td>\n",
       "    </tr>\n",
       "    <tr>\n",
       "      <th>2</th>\n",
       "      <td>Playing Games with Ais: The Limits of GPT-3 an...</td>\n",
       "      <td>10.1007/s11023-022-09602-0</td>\n",
       "      <td>This article contributes to the debate around ...</td>\n",
       "      <td>2</td>\n",
       "      <td>Playing Games with Ais: The Limits of GPT-3 an...</td>\n",
       "      <td>2022</td>\n",
       "      <td>144</td>\n",
       "      <td>7.763935</td>\n",
       "      <td>1.079302</td>\n",
       "      <td>Social and Humanitarian Applications</td>\n",
       "    </tr>\n",
       "    <tr>\n",
       "      <th>3</th>\n",
       "      <td>Extracting Training Data from Large Language M...</td>\n",
       "      <td>NaN</td>\n",
       "      <td>It has become common to publish large (billion...</td>\n",
       "      <td>3</td>\n",
       "      <td>Extracting Training Data from Large Language M...</td>\n",
       "      <td>2021</td>\n",
       "      <td>125</td>\n",
       "      <td>12.547731</td>\n",
       "      <td>3.378689</td>\n",
       "      <td>Critical studies</td>\n",
       "    </tr>\n",
       "    <tr>\n",
       "      <th>4</th>\n",
       "      <td>Exploring Large Language Models in a Limited R...</td>\n",
       "      <td>10.1109/Confluence51648.2021.9377081</td>\n",
       "      <td>Generative Pre-trained Transformers (GPT) have...</td>\n",
       "      <td>4</td>\n",
       "      <td>Exploring Large Language Models in a Limited R...</td>\n",
       "      <td>2021</td>\n",
       "      <td>85</td>\n",
       "      <td>5.564197</td>\n",
       "      <td>5.703833</td>\n",
       "      <td>Algorithm and NLP Tasks</td>\n",
       "    </tr>\n",
       "  </tbody>\n",
       "</table>\n",
       "</div>"
      ],
      "text/plain": [
       "                                       Article Title  \\\n",
       "0  Jigsaw: Large Language Models meet Program Syn...   \n",
       "1        Structured Pruning of Large Language Models   \n",
       "2  Playing Games with Ais: The Limits of GPT-3 an...   \n",
       "3  Extracting Training Data from Large Language M...   \n",
       "4  Exploring Large Language Models in a Limited R...   \n",
       "\n",
       "                                    DOI  \\\n",
       "0               10.1145/3510003.3510203   \n",
       "1                                   NaN   \n",
       "2            10.1007/s11023-022-09602-0   \n",
       "3                                   NaN   \n",
       "4  10.1109/Confluence51648.2021.9377081   \n",
       "\n",
       "                                            Abstract  Article_number  \\\n",
       "0  Large pre-trained language models such as GPT-...               0   \n",
       "1  Large language models have recently achieved s...               1   \n",
       "2  This article contributes to the debate around ...               2   \n",
       "3  It has become common to publish large (billion...               3   \n",
       "4  Generative Pre-trained Transformers (GPT) have...               4   \n",
       "\n",
       "                                      Title_abstract  Year  topics          x  \\\n",
       "0  Jigsaw: Large Language Models meet Program Syn...  2022      67   8.348383   \n",
       "1  Structured Pruning of Large Language Models. L...  2020      16  11.253509   \n",
       "2  Playing Games with Ais: The Limits of GPT-3 an...  2022     144   7.763935   \n",
       "3  Extracting Training Data from Large Language M...  2021     125  12.547731   \n",
       "4  Exploring Large Language Models in a Limited R...  2021      85   5.564197   \n",
       "\n",
       "          y                              Category  \n",
       "0  3.198837               Algorithm and NLP Tasks  \n",
       "1  0.702383               Algorithm and NLP Tasks  \n",
       "2  1.079302  Social and Humanitarian Applications  \n",
       "3  3.378689                      Critical studies  \n",
       "4  5.703833               Algorithm and NLP Tasks  "
      ]
     },
     "execution_count": 4,
     "metadata": {},
     "output_type": "execute_result"
    }
   ],
   "source": [
    "df_metadata.head()"
   ]
  },
  {
   "cell_type": "code",
   "execution_count": 6,
   "id": "6fe705fc",
   "metadata": {},
   "outputs": [
    {
     "name": "stdout",
     "output_type": "stream",
     "text": [
      "<class 'pandas.core.frame.DataFrame'>\n",
      "RangeIndex: 5752 entries, 0 to 5751\n",
      "Data columns (total 10 columns):\n",
      " #   Column          Non-Null Count  Dtype  \n",
      "---  ------          --------------  -----  \n",
      " 0   Article Title   5752 non-null   object \n",
      " 1   DOI             4184 non-null   object \n",
      " 2   Abstract        5702 non-null   object \n",
      " 3   Article_number  5752 non-null   int64  \n",
      " 4   Title_abstract  5702 non-null   object \n",
      " 5   Year            5752 non-null   int64  \n",
      " 6   topics          5752 non-null   int64  \n",
      " 7   x               5752 non-null   float64\n",
      " 8   y               5752 non-null   float64\n",
      " 9   Category        5752 non-null   object \n",
      "dtypes: float64(2), int64(3), object(5)\n",
      "memory usage: 449.5+ KB\n"
     ]
    }
   ],
   "source": [
    "df_metadata.info()"
   ]
  },
  {
   "cell_type": "code",
   "execution_count": 5,
   "id": "54019680",
   "metadata": {},
   "outputs": [
    {
     "name": "stdout",
     "output_type": "stream",
     "text": [
      "﻿FN Clarivate Analytics Web of Science\n",
      "VR 1.0\n",
      "PT C\n",
      "AU Jain, N\n",
      "   Vaidyanath, S\n",
      "   Iyer, A\n",
      "   Natarajan, N\n",
      "   Parthasarathy, S\n",
      "   Rajamani, S\n",
      "   Sharma, R\n",
      "AF Jain, Naman\n",
      "   Vaidyanath, Skanda\n",
      "   Iyer, Arun\n",
      "   Natarajan, Nagarajan\n",
      "   Parthasarathy, Suresh\n",
      "   Rajamani, Sriram\n",
      "   Sharma, Rahul\n",
      "GP IEEE Comp Soc\n",
      "TI Jigsaw: Large Language Models meet Program Synthesis\n",
      "SO 2022 ACM/IEEE 44TH INTERNATIONAL CONFERENCE ON SOFTWARE ENGINEERING\n",
      "   (ICSE 2022)\n",
      "SE International Conference on Software Engineering\n",
      "LA English\n",
      "DT Proceedings Paper\n",
      "CT ACM/IEEE 44th International Conference on Software Engineering (ICSE)\n",
      "CY MAY 22-27, 2022\n",
      "CL Pittsburgh, PA\n",
      "SP IEEE, Assoc Comp Machinery, IEEE Comp Soc, IEEE Tech Council Software Engn, Assoc Comp Machinery, Special Interest Grp Software Engn\n",
      "AB Large pre-trained language models such as GPT-3 [10], Codex [11], and Google's language model [7] are now capable of generating code from natural language specifications of programmer intent. We view these developments with a mixture of optimism and caution. On the optimistic side, such large language models have the potential to improve productivity by providing an automated AI pair programmer for every programmer in the world. On the cautionary side, since these large language models do not understand program semantics, they offer no guarantees about quality of the suggested code. In this paper, we present an approach to augment these large language models with post-processing steps based on program analysis and synthesis techniques, that understand the syntax and semantics of programs. Further, we show that such techniques can make use of user feedback and improve with usage. We present our experiences from building and evaluating such a tool Jigsaw, targeted at synthesizing code for using Python Pandas API using multi-modal inputs. Our experience suggests that as these large language models evolve for synthesizing code from intent, Jigsaw has an important role to play in improving the accuracy of the systems.\n",
      "C1 [Jain, Naman; Vaidyanath, Skanda; Iyer, Arun; Natarajan, Nagarajan; Parthasarathy, Suresh; Rajamani, Sriram; Sharma, Rahul] Microsoft Res, Bangalore, Karnataka, India.\n",
      "   [Vaidyanath, Skanda] Stanford Univ, Stanford, CA 94305 USA.\n",
      "C3 Microsoft; Stanford University\n",
      "RP Jain, N (corresponding author), Microsoft Res, Bangalore, Karnataka, India.\n",
      "EM t-namanjain@microsoft.com; svaidyan@stanford.edu; ariy@microsoft.com;\n",
      "   nagarajn@microsoft.com; supartha@microsoft.com; sriram@microsoft.com;\n",
      "   rahsha@microsoft.com\n",
      "CR [Anonymous], PARENTHESIS BLOG\n",
      "   [Anonymous], YOUR AI PAIR PROGR\n",
      "   [Anonymous], PARENTHESIS STACKOVE\n",
      "   Austin Jacob, 2021, ARXIV, DOI DOI 10.48550/ARXIV.2108.07732\n",
      "   Balog M., 2017, INT C LEARN REPR ICL\n",
      "   Bavishi R, 2019, P ACM PROGRAM LANG, V3, DOI 10.1145/3360594\n",
      "   Bjoern Hartmann, 2016, Arxiv, DOI arXiv:1608.09000\n",
      "   Brown T., 2020, ARXIV, V33, P1877\n",
      "   Chen M., 2021, ARXIV, DOI 10.48550/ARXIV.2107.03374\n",
      "   Chen QC, 2021, PROCEEDINGS OF THE 42ND ACM SIGPLAN INTERNATIONAL CONFERENCE ON PROGRAMMING LANGUAGE DESIGN AND IMPLEMENTATION (PLDI '21), P328, DOI 10.1145/3453483.3454047\n",
      "   Chen QC, 2020, PROCEEDINGS OF THE 41ST ACM SIGPLAN CONFERENCE ON PROGRAMMING LANGUAGE DESIGN AND IMPLEMENTATION (PLDI '20), P487, DOI 10.1145/3385412.3385988\n",
      "   Chen YJ, 2019, ESEC/FSE'2019: PROCEEDINGS OF THE 2019 27TH ACM JOINT MEETING ON EUROPEAN SOFTWARE ENGINEERING CONFERENCE AND SYMPOSIUM ON THE FOUNDATIONS OF SOFTWARE ENGINEERING, P602, DOI 10.1145/3338906.3338951\n",
      "   Clement CB, 2020, PROCEEDINGS OF THE 2020 CONFERENCE ON EMPIRICAL METHODS IN NATURAL LANGUAGE PROCESSING (EMNLP), P9052\n",
      "   Devlin J, 2017, PR MACH LEARN RES, V70\n",
      "   DILLON M, 1983, INFORM PROCESS MANAG, V19, P402, DOI 10.1016/0306-4573(83)90062-6\n",
      "   Feng Y, 2018, ACM SIGPLAN NOTICES, V53, P420, DOI [10.1145/3296979.3192382, 10.1145/3192366.3192382]\n",
      "   Greg Durrett, 2020, Arxiv, DOI arXiv:1908.05848\n",
      "   Gulwani S, 2016, NATO SCI PEAC SECUR, V45, P137, DOI 10.3233/978-1-61499-627-9-137\n",
      "   Pearce H, 2021, Arxiv, DOI arXiv:2108.09293\n",
      "   He YY, 2018, PROC VLDB ENDOW, V11, P1165, DOI 10.14778/3231751.3231766\n",
      "   jupyter, US\n",
      "   Kalyan A., 2018, INT C LEARN REPR ICL\n",
      "   Lee W, 2018, ACM SIGPLAN NOTICES, V53, P436, DOI [10.1145/3192366.3192410, 10.1145/3296979.3192410]\n",
      "   Liu P., 2021, ARXIV\n",
      "   Manshadi Mehdi Hafezi, 2013, P 27 AAAI C ARTIFICI\n",
      "   Menon Aditya Krishna, 2013, P 10 ANN ACM S THEOR, V28, P187\n",
      "   Miltner Anders, 2019, OBJECT ORIENTED PROG\n",
      "   Parisotto Emilio, 2017, P INT C LEARN REPR\n",
      "   Perez Ethan, 2021, CORR\n",
      "   Poesia Gabriel, 2022, INT C LEARNING REPRE\n",
      "   Polozov O, 2015, ACM SIGPLAN NOTICES, V50, P107, DOI [10.1145/2858965.2814310, 10.1145/2814270.2814310]\n",
      "   Radford A., 2019, LANGUAGE MODELS ARE\n",
      "   Rahmani Kia, 2021, OOPSLA\n",
      "   Raychev V, 2014, ACM SIGPLAN NOTICES, V49, P419, DOI [10.1145/2594291.2594321, 10.1145/2666356.2594321]\n",
      "   Raza M, 2015, PROCEEDINGS OF THE TWENTY-FOURTH INTERNATIONAL JOINT CONFERENCE ON ARTIFICIAL INTELLIGENCE (IJCAI), P792\n",
      "   Reimers Nils, 2019, SENTENCE BERT SENTEN\n",
      "   Rubin O, 2021, 2021 CONFERENCE OF THE NORTH AMERICAN CHAPTER OF THE ASSOCIATION FOR COMPUTATIONAL LINGUISTICS: HUMAN LANGUAGE TECHNOLOGIES (NAACL-HLT 2021), P311\n",
      "   Shi Kensen, 2020, ARXIV\n",
      "   Singh R, 2015, LECT NOTES COMPUT SC, V9206, P398, DOI 10.1007/978-3-319-21690-4_23\n",
      "   TensorFlow, US\n",
      "   The pandas development team, 2020, PANDAS DEVPANDAS PAN, DOI [10.5281/zenodo.3509134, DOI 10.5281/ZENODO.3509134]\n",
      "   Wang Bailin, 2020, P 58 ANN M ASS COMPU, P7567, DOI [DOI 10.18653/V1/2020.ACL-MAIN.677, 10.18653/v1/2020.aclmain.677]\n",
      "   Yifan Wu, 2020, UIST '20: Proceedings of the 33rd Annual ACM Symposium on User Interface Software and Technology, P152, DOI 10.1145/3379337.3415851\n",
      "   Yu T, 2018, 2018 CONFERENCE ON EMPIRICAL METHODS IN NATURAL LANGUAGE PROCESSING (EMNLP 2018), P3911\n",
      "   Zhao Tony Z., 2021, INT C MACHINE LEARNI\n",
      "NR 45\n",
      "TC 0\n",
      "Z9 0\n",
      "U1 3\n",
      "U2 3\n",
      "PU IEEE COMPUTER SOC\n",
      "PI LOS ALAMITOS\n",
      "PA 10662 LOS VAQUEROS CIRCLE, PO BOX 3014, LOS ALAMITOS, CA 90720-1264 USA\n",
      "SN 0270-5257\n",
      "BN 978-1-4503-9221-1\n",
      "J9 PROC INT CONF SOFTW\n",
      "PY 2022\n",
      "BP 1219\n",
      "EP 1231\n",
      "DI 10.1145/3510003.3510203\n",
      "PG 13\n",
      "WC Computer Science, Software Engineering; Computer Science, Theory &\n",
      "   Methods\n",
      "WE Conference Proceedings Citation Index - Science (CPCI-S)\n",
      "SC Computer Science\n",
      "GA BT4NG\n",
      "UT WOS:000832185400099\n",
      "DA 2023-02-21\n",
      "ER\n"
     ]
    }
   ],
   "source": [
    "# read a text file with records separated by empty lines and output the records as a list\n",
    "def read_records(file_path):\n",
    "    with open(file_path, 'r') as file:\n",
    "        content = file.read()\n",
    "        records = content.split('\\n\\n')\n",
    "        return records[:-1] # the last one if \"EF\"\n",
    "\n",
    "# example\n",
    "file_path = data_import_path+\"/download_chatgpt_1_500.txt\"\n",
    "records_list = read_records(file_path)\n",
    "print(records_list[0])\n"
   ]
  },
  {
   "cell_type": "code",
   "execution_count": 13,
   "id": "a2154846",
   "metadata": {},
   "outputs": [],
   "source": [
    "# create selection index\n",
    "keep_idx = [0 if item==\"Remove\" else 1 for item in df_metadata.Category]"
   ]
  },
  {
   "cell_type": "code",
   "execution_count": 15,
   "id": "a67dc190",
   "metadata": {},
   "outputs": [
    {
     "data": {
      "text/plain": [
       "5752"
      ]
     },
     "execution_count": 15,
     "metadata": {},
     "output_type": "execute_result"
    }
   ],
   "source": [
    "len(keep_idx)"
   ]
  },
  {
   "cell_type": "code",
   "execution_count": 23,
   "id": "1cf3e8e6",
   "metadata": {},
   "outputs": [
    {
     "name": "stdout",
     "output_type": "stream",
     "text": [
      "0 500\n",
      "1 500\n",
      "2 500\n",
      "3 500\n",
      "4 500\n",
      "5 500\n",
      "6 500\n",
      "7 500\n",
      "8 500\n",
      "9 500\n",
      "10 500\n",
      "11 252\n"
     ]
    }
   ],
   "source": [
    "# read all txt and save the selected ones to a single txt\n",
    "selected_pubs = []\n",
    "file_names = [\"1_500\",\"501_1000\",\"1001_1500\",\"1501_2000\",\n",
    "              \"2001_2500\",\"2501_3000\",\"3001_3500\",\"3501_4000\",\n",
    "              \"4001_4500\",\"4501_5000\",\"5001_5500\",\"5501_5752\"]\n",
    "\n",
    "for i in range(len(file_names)):\n",
    "    file_name = file_names[i]\n",
    "    file_path = data_import_path+\"/download_chatgpt_\"+ file_name +\".txt\"\n",
    "    records_list = read_records(file_path)\n",
    "    print(i, len(records_list))\n",
    "    for j in range(len(records_list)):\n",
    "        if keep_idx[i*500+j]==1:\n",
    "            selected_pubs.append(records_list[j])"
   ]
  },
  {
   "cell_type": "code",
   "execution_count": 30,
   "id": "fd3f3c0c",
   "metadata": {},
   "outputs": [],
   "source": [
    "selected_pubs_str = \"\\n\\n\".join(selected_pubs)\n",
    "selected_pubs_str += \"\\n\\nEF\""
   ]
  },
  {
   "cell_type": "code",
   "execution_count": 32,
   "id": "decb3a22",
   "metadata": {},
   "outputs": [],
   "source": [
    "with open(data_import_path+\"/download_chatgpt_all.txt\", \"w\") as text_file:\n",
    "    text_file.write(selected_pubs_str)"
   ]
  },
  {
   "cell_type": "code",
   "execution_count": null,
   "id": "9f4d9000",
   "metadata": {},
   "outputs": [],
   "source": []
  },
  {
   "cell_type": "code",
   "execution_count": null,
   "id": "2c33a086",
   "metadata": {},
   "outputs": [],
   "source": []
  },
  {
   "cell_type": "code",
   "execution_count": 33,
   "id": "2a1c7786",
   "metadata": {},
   "outputs": [],
   "source": [
    "df_metadata_clean = df_metadata[df_metadata.Category!=\"Remove\"].reset_index(drop=True)\n",
    "df_metadata_clean.to_csv(data_export_path+\"/LLM_wos_abstract_w_topics_years_positions_categories_200_clean.csv\",index=False)"
   ]
  },
  {
   "cell_type": "code",
   "execution_count": null,
   "id": "c3941fa6",
   "metadata": {},
   "outputs": [],
   "source": []
  },
  {
   "cell_type": "code",
   "execution_count": 3,
   "id": "0bf5b97e",
   "metadata": {},
   "outputs": [],
   "source": [
    "df_metadata_clean = pd.read_csv(data_export_path+\"/LLM_wos_abstract_w_topics_years_positions_categories_200_clean.csv\")"
   ]
  },
  {
   "cell_type": "code",
   "execution_count": 5,
   "id": "060f95ff",
   "metadata": {},
   "outputs": [
    {
     "name": "stdout",
     "output_type": "stream",
     "text": [
      "<class 'pandas.core.frame.DataFrame'>\n",
      "RangeIndex: 5527 entries, 0 to 5526\n",
      "Data columns (total 10 columns):\n",
      " #   Column          Non-Null Count  Dtype  \n",
      "---  ------          --------------  -----  \n",
      " 0   Article Title   5527 non-null   object \n",
      " 1   DOI             3996 non-null   object \n",
      " 2   Abstract        5527 non-null   object \n",
      " 3   Article_number  5527 non-null   int64  \n",
      " 4   Title_abstract  5527 non-null   object \n",
      " 5   Year            5527 non-null   int64  \n",
      " 6   topics          5527 non-null   int64  \n",
      " 7   x               5527 non-null   float64\n",
      " 8   y               5527 non-null   float64\n",
      " 9   Category        5527 non-null   object \n",
      "dtypes: float64(2), int64(3), object(5)\n",
      "memory usage: 431.9+ KB\n"
     ]
    }
   ],
   "source": [
    "df_metadata_clean.info()"
   ]
  },
  {
   "cell_type": "markdown",
   "id": "c8752f0f",
   "metadata": {},
   "source": [
    "### Or, we can export txt for each of the Category"
   ]
  },
  {
   "cell_type": "code",
   "execution_count": 6,
   "id": "496c0de2",
   "metadata": {},
   "outputs": [
    {
     "data": {
      "text/plain": [
       "{'Algorithm and NLP Tasks',\n",
       " 'Critical studies',\n",
       " 'Infrastructure ',\n",
       " 'Medical and Engineering Applications',\n",
       " 'Remove',\n",
       " 'Social and Humanitarian Applications'}"
      ]
     },
     "execution_count": 6,
     "metadata": {},
     "output_type": "execute_result"
    }
   ],
   "source": [
    "set(df_metadata.Category)"
   ]
  },
  {
   "cell_type": "code",
   "execution_count": 8,
   "id": "621ce3a6",
   "metadata": {},
   "outputs": [
    {
     "name": "stdout",
     "output_type": "stream",
     "text": [
      "0 500\n",
      "1 500\n",
      "2 500\n",
      "3 500\n",
      "4 500\n",
      "5 500\n",
      "6 500\n",
      "7 500\n",
      "8 500\n",
      "9 500\n",
      "10 500\n",
      "11 252\n"
     ]
    }
   ],
   "source": [
    "selected_pubs_Algo = []\n",
    "selected_pubs_Crit = []\n",
    "selected_pubs_Infr = []\n",
    "selected_pubs_MeEn = []\n",
    "selected_pubs_SoHu = []\n",
    "\n",
    "file_names = [\"1_500\",\"501_1000\",\"1001_1500\",\"1501_2000\",\n",
    "              \"2001_2500\",\"2501_3000\",\"3001_3500\",\"3501_4000\",\n",
    "              \"4001_4500\",\"4501_5000\",\"5001_5500\",\"5501_5752\"]\n",
    "\n",
    "for i in range(len(file_names)):\n",
    "    file_name = file_names[i]\n",
    "    file_path = data_import_path+\"/download_chatgpt_\"+ file_name +\".txt\"\n",
    "    records_list = read_records(file_path)\n",
    "    print(i, len(records_list))\n",
    "    for j in range(len(records_list)):\n",
    "        this_idx = i*500+j\n",
    "        if df_metadata.Category[this_idx]=='Algorithm and NLP Tasks':\n",
    "            selected_pubs_Algo.append(records_list[j])\n",
    "        elif df_metadata.Category[this_idx]=='Critical studies':\n",
    "            selected_pubs_Crit.append(records_list[j])\n",
    "        elif df_metadata.Category[this_idx]=='Infrastructure ':\n",
    "            selected_pubs_Infr.append(records_list[j])\n",
    "        elif df_metadata.Category[this_idx]=='Medical and Engineering Applications':\n",
    "            selected_pubs_MeEn.append(records_list[j])\n",
    "        elif df_metadata.Category[this_idx]=='Social and Humanitarian Applications':\n",
    "            selected_pubs_SoHu.append(records_list[j])"
   ]
  },
  {
   "cell_type": "code",
   "execution_count": 10,
   "id": "38b6a3c6",
   "metadata": {},
   "outputs": [],
   "source": [
    "selected_pubs_Algo_str = \"\\n\\n\".join(selected_pubs_Algo)\n",
    "selected_pubs_Algo_str += \"\\n\\nEF\"\n",
    "with open(data_import_path+\"/download_chatgpt_Algo.txt\", \"w\") as text_file:\n",
    "    text_file.write(selected_pubs_Algo_str)"
   ]
  },
  {
   "cell_type": "code",
   "execution_count": 11,
   "id": "01d18ada",
   "metadata": {},
   "outputs": [],
   "source": [
    "selected_pubs_Crit_str = \"\\n\\n\".join(selected_pubs_Crit)\n",
    "selected_pubs_Crit_str += \"\\n\\nEF\"\n",
    "with open(data_import_path+\"/download_chatgpt_Crit.txt\", \"w\") as text_file:\n",
    "    text_file.write(selected_pubs_Crit_str)"
   ]
  },
  {
   "cell_type": "code",
   "execution_count": 12,
   "id": "4f8184a2",
   "metadata": {},
   "outputs": [],
   "source": [
    "selected_pubs_Infr_str = \"\\n\\n\".join(selected_pubs_Infr)\n",
    "selected_pubs_Infr_str += \"\\n\\nEF\"\n",
    "with open(data_import_path+\"/download_chatgpt_Infr.txt\", \"w\") as text_file:\n",
    "    text_file.write(selected_pubs_Infr_str)"
   ]
  },
  {
   "cell_type": "code",
   "execution_count": 13,
   "id": "4a7c5ea1",
   "metadata": {},
   "outputs": [],
   "source": [
    "selected_pubs_MeEn_str = \"\\n\\n\".join(selected_pubs_MeEn)\n",
    "selected_pubs_MeEn_str += \"\\n\\nEF\"\n",
    "with open(data_import_path+\"/download_chatgpt_MeEn.txt\", \"w\") as text_file:\n",
    "    text_file.write(selected_pubs_MeEn_str)"
   ]
  },
  {
   "cell_type": "code",
   "execution_count": 14,
   "id": "8049e885",
   "metadata": {},
   "outputs": [],
   "source": [
    "selected_pubs_SoHu_str = \"\\n\\n\".join(selected_pubs_SoHu)\n",
    "selected_pubs_SoHu_str += \"\\n\\nEF\"\n",
    "with open(data_import_path+\"/download_chatgpt_SoHu.txt\", \"w\") as text_file:\n",
    "    text_file.write(selected_pubs_SoHu_str)"
   ]
  },
  {
   "cell_type": "code",
   "execution_count": null,
   "id": "c3bfde89",
   "metadata": {},
   "outputs": [],
   "source": []
  }
 ],
 "metadata": {
  "kernelspec": {
   "display_name": "Python 3 (ipykernel)",
   "language": "python",
   "name": "python3"
  },
  "language_info": {
   "codemirror_mode": {
    "name": "ipython",
    "version": 3
   },
   "file_extension": ".py",
   "mimetype": "text/x-python",
   "name": "python",
   "nbconvert_exporter": "python",
   "pygments_lexer": "ipython3",
   "version": "3.9.7"
  }
 },
 "nbformat": 4,
 "nbformat_minor": 5
}
